{
 "cells": [
  {
   "cell_type": "code",
   "execution_count": 1,
   "id": "c745449a",
   "metadata": {},
   "outputs": [],
   "source": [
    "import pickle\n",
    "import numpy as np\n",
    "from sklearn.ensemble import RandomForestClassifier\n",
    "from sklearn.model_selection import train_test_split\n",
    "from sklearn.metrics import accuracy_score\n",
    "from sklearn.metrics import confusion_matrix\n",
    "import seaborn as sns\n",
    "import matplotlib.pyplot as plt\n",
    "import tensorflow as tf\n",
    "from tensorflow.keras.models import Sequential\n",
    "from tensorflow.keras.layers import Conv2D, MaxPooling2D, Flatten, Dense, Dropout\n",
    "from sklearn.model_selection import train_test_split"
   ]
  },
  {
   "cell_type": "code",
   "execution_count": 2,
   "id": "be0f1c22",
   "metadata": {},
   "outputs": [],
   "source": [
    "def load_data_from_file(file):\n",
    "    data_dict = pickle.load(open(file,'rb'))\n",
    "    \n",
    "    return data_dict"
   ]
  },
  {
   "cell_type": "code",
   "execution_count": 3,
   "id": "9ec09de4",
   "metadata": {},
   "outputs": [],
   "source": [
    "def create_data_and_labels(all_data_dict):\n",
    "    data = np.asarray(all_data_dict['data'])\n",
    "    labels = np.asarray(all_data_dict['labels'])\n",
    "\n",
    "    return data,labels"
   ]
  },
  {
   "cell_type": "code",
   "execution_count": 4,
   "id": "dc490d38",
   "metadata": {},
   "outputs": [
    {
     "name": "stdout",
     "output_type": "stream",
     "text": [
      "len of x_train: 6187\n",
      "len of y_train: 6187\n",
      "len of x_test: 1547\n",
      "len of y_test: 1547\n"
     ]
    }
   ],
   "source": [
    "data_file_path = './data2.pickle'\n",
    "data_dict = load_data_from_file(data_file_path)\n",
    "data, labels = create_data_and_labels(data_dict)\n",
    "\n",
    "x_train, x_test, y_train, y_test = train_test_split(data, labels, test_size=0.2, shuffle=True, stratify= labels)\n",
    "print(f\"len of x_train: {len(x_train)}\")\n",
    "print(f\"len of y_train: {len(y_train)}\")    \n",
    "print(f\"len of x_test: {len(x_test)}\")\n",
    "print(f\"len of y_test: {len(y_test)}\")"
   ]
  },
  {
   "cell_type": "code",
   "execution_count": 11,
   "id": "7c329de6",
   "metadata": {},
   "outputs": [
    {
     "name": "stdout",
     "output_type": "stream",
     "text": [
      "1\n",
      "98.45% of samples were classified correctly!\n",
      "2\n",
      "98.51% of samples were classified correctly!\n",
      "Model reached desired accuracy!\n"
     ]
    }
   ],
   "source": [
    "model = RandomForestClassifier()\n",
    "\n",
    "score = 0\n",
    "max_iterations = 100  \n",
    "iteration = 0\n",
    "\n",
    "while score < 0.985 and iteration < max_iterations:\n",
    "    print(iteration+1)\n",
    "    model.fit(x_train, y_train)\n",
    "    y_predict = model.predict(x_test)\n",
    "    score = accuracy_score(y_pred=y_predict, y_true=y_test)\n",
    "    print('{:.2f}% of samples were classified correctly!'.format(score * 100))\n",
    "    \n",
    "    iteration += 1\n",
    "\n",
    "if score >= 0.985:\n",
    "    print(\"Model reached desired accuracy!\")\n",
    "else:\n",
    "    print(\"Model did not reach desired accuracy after {} iterations.\".format(max_iterations))"
   ]
  },
  {
   "cell_type": "code",
   "execution_count": 12,
   "id": "6e2b9b62",
   "metadata": {},
   "outputs": [],
   "source": [
    "f = open('model3.p','wb')\n",
    "pickle.dump({'model':model}, f)\n",
    "f.close()"
   ]
  },
  {
   "cell_type": "code",
   "execution_count": null,
   "id": "03bac95b",
   "metadata": {},
   "outputs": [],
   "source": []
  }
 ],
 "metadata": {
  "kernelspec": {
   "display_name": "Python 3 (ipykernel)",
   "language": "python",
   "name": "python3"
  },
  "language_info": {
   "codemirror_mode": {
    "name": "ipython",
    "version": 3
   },
   "file_extension": ".py",
   "mimetype": "text/x-python",
   "name": "python",
   "nbconvert_exporter": "python",
   "pygments_lexer": "ipython3",
   "version": "3.12.4"
  }
 },
 "nbformat": 4,
 "nbformat_minor": 5
}
