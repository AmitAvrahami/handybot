{
 "cells": [
  {
   "cell_type": "code",
   "execution_count": 4,
   "metadata": {},
   "outputs": [
    {
     "name": "stdout",
     "output_type": "stream",
     "text": [
      "COM3 - Silicon Labs CP210x USB to UART Bridge‏ (COM3)\n"
     ]
    }
   ],
   "source": [
    "import serial.tools\n",
    "import serial.tools.list_ports\n",
    "\n",
    "\n",
    "ports = serial.tools.list_ports.comports()\n",
    "\n",
    "for i in ports:\n",
    "    print(str(i))"
   ]
  },
  {
   "cell_type": "code",
   "execution_count": 5,
   "metadata": {},
   "outputs": [
    {
     "name": "stdout",
     "output_type": "stream",
     "text": [
      "Arduino code uploaded successfully\n"
     ]
    },
    {
     "ename": "SerialException",
     "evalue": "could not open port 'COM3': PermissionError(13, 'Access is denied.', None, 5)",
     "output_type": "error",
     "traceback": [
      "\u001b[1;31m---------------------------------------------------------------------------\u001b[0m",
      "\u001b[1;31mSerialException\u001b[0m                           Traceback (most recent call last)",
      "Cell \u001b[1;32mIn[5], line 44\u001b[0m\n\u001b[0;32m     42\u001b[0m     serial_port \u001b[38;5;241m=\u001b[39m \u001b[38;5;124m'\u001b[39m\u001b[38;5;124mCOM3\u001b[39m\u001b[38;5;124m'\u001b[39m \n\u001b[0;32m     43\u001b[0m     string_to_send \u001b[38;5;241m=\u001b[39m \u001b[38;5;124m\"\u001b[39m\u001b[38;5;124mABCD_EFGHI JKLMNOP QRSTU VWXYZ\u001b[39m\u001b[38;5;124m\"\u001b[39m\n\u001b[1;32m---> 44\u001b[0m     \u001b[43msend_string_to_arduino\u001b[49m\u001b[43m(\u001b[49m\u001b[43mserial_port\u001b[49m\u001b[43m,\u001b[49m\u001b[43m \u001b[49m\u001b[43mstring_to_send\u001b[49m\u001b[43m)\u001b[49m\n\u001b[0;32m     45\u001b[0m     \u001b[38;5;28mprint\u001b[39m(\u001b[38;5;124mf\u001b[39m\u001b[38;5;124m\"\u001b[39m\u001b[38;5;124mSent string to Arduino: \u001b[39m\u001b[38;5;132;01m{\u001b[39;00mstring_to_send\u001b[38;5;132;01m}\u001b[39;00m\u001b[38;5;124m\"\u001b[39m)\n\u001b[0;32m     46\u001b[0m \u001b[38;5;28;01melse\u001b[39;00m:\n",
      "Cell \u001b[1;32mIn[5], line 34\u001b[0m, in \u001b[0;36msend_string_to_arduino\u001b[1;34m(serial_port, string)\u001b[0m\n\u001b[0;32m     32\u001b[0m ser\u001b[38;5;241m.\u001b[39mbaudrate \u001b[38;5;241m=\u001b[39m \u001b[38;5;241m9600\u001b[39m\n\u001b[0;32m     33\u001b[0m ser\u001b[38;5;241m.\u001b[39mport \u001b[38;5;241m=\u001b[39m serial_port\n\u001b[1;32m---> 34\u001b[0m \u001b[43mser\u001b[49m\u001b[38;5;241;43m.\u001b[39;49m\u001b[43mopen\u001b[49m\u001b[43m(\u001b[49m\u001b[43m)\u001b[49m\n\u001b[0;32m     35\u001b[0m time\u001b[38;5;241m.\u001b[39msleep(\u001b[38;5;241m2\u001b[39m)  \u001b[38;5;66;03m# Wait for the connection to establish\u001b[39;00m\n\u001b[0;32m     36\u001b[0m ser\u001b[38;5;241m.\u001b[39mwrite(string\u001b[38;5;241m.\u001b[39mencode(\u001b[38;5;124m'\u001b[39m\u001b[38;5;124mutf-8\u001b[39m\u001b[38;5;124m'\u001b[39m))\n",
      "File \u001b[1;32m~\\AppData\\Roaming\\Python\\Python312\\site-packages\\serial\\serialwin32.py:64\u001b[0m, in \u001b[0;36mSerial.open\u001b[1;34m(self)\u001b[0m\n\u001b[0;32m     62\u001b[0m \u001b[38;5;28;01mif\u001b[39;00m \u001b[38;5;28mself\u001b[39m\u001b[38;5;241m.\u001b[39m_port_handle \u001b[38;5;241m==\u001b[39m win32\u001b[38;5;241m.\u001b[39mINVALID_HANDLE_VALUE:\n\u001b[0;32m     63\u001b[0m     \u001b[38;5;28mself\u001b[39m\u001b[38;5;241m.\u001b[39m_port_handle \u001b[38;5;241m=\u001b[39m \u001b[38;5;28;01mNone\u001b[39;00m    \u001b[38;5;66;03m# 'cause __del__ is called anyway\u001b[39;00m\n\u001b[1;32m---> 64\u001b[0m     \u001b[38;5;28;01mraise\u001b[39;00m SerialException(\u001b[38;5;124m\"\u001b[39m\u001b[38;5;124mcould not open port \u001b[39m\u001b[38;5;132;01m{!r}\u001b[39;00m\u001b[38;5;124m: \u001b[39m\u001b[38;5;132;01m{!r}\u001b[39;00m\u001b[38;5;124m\"\u001b[39m\u001b[38;5;241m.\u001b[39mformat(\u001b[38;5;28mself\u001b[39m\u001b[38;5;241m.\u001b[39mportstr, ctypes\u001b[38;5;241m.\u001b[39mWinError()))\n\u001b[0;32m     66\u001b[0m \u001b[38;5;28;01mtry\u001b[39;00m:\n\u001b[0;32m     67\u001b[0m     \u001b[38;5;28mself\u001b[39m\u001b[38;5;241m.\u001b[39m_overlapped_read \u001b[38;5;241m=\u001b[39m win32\u001b[38;5;241m.\u001b[39mOVERLAPPED()\n",
      "\u001b[1;31mSerialException\u001b[0m: could not open port 'COM3': PermissionError(13, 'Access is denied.', None, 5)"
     ]
    }
   ],
   "source": [
    "import os\n",
    "import time\n",
    "import serial\n",
    "import subprocess\n",
    "\n",
    "# Compile and upload the Arduino code\n",
    "def upload_arduino_code():\n",
    "    arduino_cli_path = 'arduino-cli.exe'\n",
    "    sketch_path = 'Final_project\\\\Final_project.ino'\n",
    "    port = 'COM3'\n",
    "\n",
    "    compile_command = f'{arduino_cli_path} compile --fqbn arduino:avr:uno {sketch_path}'\n",
    "    upload_command = f'{arduino_cli_path} upload -p {port} --fqbn arduino:avr:uno {sketch_path}'\n",
    "\n",
    "    # Compile the Arduino sketch\n",
    "    compile_process = subprocess.run(compile_command, shell=True)\n",
    "    if compile_process.returncode == 0:\n",
    "        print(\"Compilation failed\")\n",
    "        return False\n",
    "\n",
    "    # Upload the Arduino sketch\n",
    "    upload_process = subprocess.run(upload_command, shell=True)\n",
    "    if upload_process.returncode == 0:\n",
    "        print(\"Upload failed\")\n",
    "        return False\n",
    "\n",
    "    return True\n",
    "\n",
    "# Send a string to the Arduino\n",
    "def send_string_to_arduino(serial_port, string):\n",
    "    ser = serial.Serial()\n",
    "    ser.baudrate = 9600\n",
    "    ser.port = serial_port\n",
    "    if not ser.isOpen():\n",
    "    ser.open()\n",
    "    print('com3 is open', ser.isOpen())\n",
    "    time.sleep(2)  # Wait for the connection to establish\n",
    "    ser.write(string.encode('utf-8'))\n",
    "    ser.close()\n",
    "\n",
    "if __name__ == \"__main__\":\n",
    "    if upload_arduino_code():\n",
    "        print(\"Arduino code uploaded successfully\")\n",
    "        serial_port = 'COM3' \n",
    "        string_to_send = \"ABCD_EFGHI JKLMNOP QRSTU VWXYZ\"\n",
    "        send_string_to_arduino(serial_port, string_to_send)\n",
    "        print(f\"Sent string to Arduino: {string_to_send}\")\n",
    "    else:\n",
    "        print(\"Failed to upload Arduino code\")"
   ]
  }
 ],
 "metadata": {
  "kernelspec": {
   "display_name": "Python 3",
   "language": "python",
   "name": "python3"
  },
  "language_info": {
   "codemirror_mode": {
    "name": "ipython",
    "version": 3
   },
   "file_extension": ".py",
   "mimetype": "text/x-python",
   "name": "python",
   "nbconvert_exporter": "python",
   "pygments_lexer": "ipython3",
   "version": "3.12.3"
  }
 },
 "nbformat": 4,
 "nbformat_minor": 2
}
