{
 "cells": [
  {
   "cell_type": "code",
   "execution_count": 1,
   "metadata": {},
   "outputs": [
    {
     "name": "stdout",
     "output_type": "stream",
     "text": [
      "CUDA is available. GPU is detected.\n",
      "Result of tensor addition on GPU: tensor([5., 7., 9.], device='cuda:0')\n"
     ]
    }
   ],
   "source": [
    "import torch\n",
    "\n",
    "if torch.cuda.is_available():\n",
    "    print(\"CUDA is available. GPU is detected.\")\n",
    "    device = torch.device(\"cuda\")\n",
    "    x = torch.tensor([1.0, 2.0, 3.0], device=device)\n",
    "    y = torch.tensor([4.0, 5.0, 6.0], device=device)\n",
    "    z = x + y\n",
    "    print(f\"Result of tensor addition on GPU: {z}\")\n",
    "else:\n",
    "    print(\"CUDA is not available. Running on CPU.\")"
   ]
  },
  {
   "cell_type": "code",
   "execution_count": 2,
   "metadata": {},
   "outputs": [],
   "source": [
    "import cv2\n",
    "import os\n",
    "import numpy as np\n",
    "import pandas as pd\n",
    "import matplotlib.pyplot as plt\n",
    "from tensorflow.keras.utils import to_categorical\n",
    "from keras.models import load_model\n",
    "from sklearn.metrics import accuracy_score, f1_score, confusion_matrix\n",
    "import seaborn as sns\n",
    "import tensorflow as tf\n",
    "from tensorflow.keras.models import Sequential\n",
    "from tensorflow.keras.layers import Conv2D, MaxPooling2D, Flatten, Dense\n",
    "import mediapipe as mp\n",
    "import pickle\n"
   ]
  },
  {
   "cell_type": "code",
   "execution_count": 4,
   "metadata": {},
   "outputs": [],
   "source": [
    "#data_dir = r\"C:\\Users\\amitx\\Desktop\\data\\asl_alphabet_train\"\n",
    "data_dir = r\"C:\\Users\\amitx\\Desktop\\data_images\\asl_train\"\n",
    "\n",
    "categories = os.listdir(data_dir)\n",
    "img_size = 64\n",
    "mp_hands = mp.solutions.hands\n",
    "hands = mp_hands.Hands(max_num_hands=1)\n",
    "mp_drawing = mp.solutions.drawing_utils\n",
    "mp_drawing_styles = mp.solutions.drawing_styles"
   ]
  },
  {
   "cell_type": "markdown",
   "metadata": {},
   "source": [
    "<h1>Pre-Processing the Data<h1>"
   ]
  },
  {
   "cell_type": "markdown",
   "metadata": {},
   "source": [
    "in this section we will create a trainig data model.\n",
    "<li>this model will present by array of pairs.\n",
    "<li>each pair will be a pixels of image array and class of this image.\n",
    "<li>for example : the letter 'A' will be [pixel array of image A , the class that present A (0)]"
   ]
  },
  {
   "cell_type": "code",
   "execution_count": 5,
   "metadata": {},
   "outputs": [],
   "source": [
    "\n",
    "def create_training_data():\n",
    "    data = []\n",
    "    labels = []\n",
    "\n",
    "    for category in categories:\n",
    "        path = os.path.join(data_dir, category)\n",
    "        class_num = categories.index(category)\n",
    "        for img in os.listdir(path):\n",
    "            try:\n",
    "                img_path = os.path.join(path, img)\n",
    "                img = cv2.imread(img_path)\n",
    "                image_rgb = cv2.cvtColor(img, cv2.COLOR_BGR2RGB)\n",
    "                data_aux = []\n",
    "                results = hands.process(image_rgb)\n",
    "                if results.multi_hand_landmarks:\n",
    "                    for hand_landmarks in results.multi_hand_landmarks:\n",
    "                        for lm in hand_landmarks.landmark:\n",
    "                            data_aux.append(lm.x)\n",
    "                            data_aux.append(lm.y)\n",
    "                        \n",
    "                    data.append(data_aux)\n",
    "                    labels.append(class_num)\n",
    "                \n",
    "            except Exception as e:\n",
    "                print(f\"Failed to process image {img_path}: {e}\")\n",
    "                pass\n",
    "\n",
    "    return  data , labels"
   ]
  },
  {
   "cell_type": "code",
   "execution_count": 6,
   "metadata": {},
   "outputs": [
    {
     "name": "stderr",
     "output_type": "stream",
     "text": [
      "c:\\Users\\amitx\\AppData\\Local\\Programs\\Python\\Python312\\Lib\\site-packages\\google\\protobuf\\symbol_database.py:55: UserWarning: SymbolDatabase.GetPrototype() is deprecated. Please use message_factory.GetMessageClass() instead. SymbolDatabase.GetPrototype() will be removed soon.\n",
      "  warnings.warn('SymbolDatabase.GetPrototype() is deprecated. Please '\n"
     ]
    },
    {
     "name": "stdout",
     "output_type": "stream",
     "text": [
      "Number of samples: 7734\n"
     ]
    }
   ],
   "source": [
    "# יצירת מערך האימונים וה- handmarks\n",
    "data, labels = create_training_data()\n",
    "print(f\"Number of samples: {len(data)}\")\n"
   ]
  },
  {
   "cell_type": "code",
   "execution_count": 7,
   "metadata": {},
   "outputs": [],
   "source": [
    "f = open('data2.pickle','wb')\n",
    "pickle.dump({'data':data,'labels':labels} , f)\n",
    "f.close()"
   ]
  },
  {
   "cell_type": "code",
   "execution_count": null,
   "metadata": {},
   "outputs": [],
   "source": []
  }
 ],
 "metadata": {
  "kernelspec": {
   "display_name": "Python 3",
   "language": "python",
   "name": "python3"
  },
  "language_info": {
   "codemirror_mode": {
    "name": "ipython",
    "version": 3
   },
   "file_extension": ".py",
   "mimetype": "text/x-python",
   "name": "python",
   "nbconvert_exporter": "python",
   "pygments_lexer": "ipython3",
   "version": "3.12.4"
  }
 },
 "nbformat": 4,
 "nbformat_minor": 2
}
